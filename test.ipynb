{
 "cells": [
  {
   "cell_type": "code",
   "execution_count": 2,
   "metadata": {
    "collapsed": false
   },
   "outputs": [
    {
     "name": "stdout",
     "output_type": "stream",
     "text": [
      "<type 'dict'>\n"
     ]
    }
   ],
   "source": [
    "import collections\n",
    "import os\n",
    "import pprint\n",
    "\n",
    "\n",
    "a = collections.defaultdict(list)\n",
    "\n",
    "\n",
    "myPath = \"C:\\Program Files\\CyberLink\"\n",
    "for b, c, d in os.walk(myPath):\n",
    "    for e in d:\n",
    "        a[e].append(b)\n",
    "\n",
    "\n",
    "f = {g: h for g, h in a.items() if len(h) > 1}\n",
    "\n",
    "print type(f)\n",
    "#pprint.pprint(f)\n"
   ]
  }
 ],
 "metadata": {
  "kernelspec": {
   "display_name": "Python 2",
   "language": "python",
   "name": "python2"
  },
  "language_info": {
   "codemirror_mode": {
    "name": "ipython",
    "version": 2
   },
   "file_extension": ".py",
   "mimetype": "text/x-python",
   "name": "python",
   "nbconvert_exporter": "python",
   "pygments_lexer": "ipython2",
   "version": "2.7.12"
  }
 },
 "nbformat": 4,
 "nbformat_minor": 0
}
