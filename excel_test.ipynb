{
 "cells": [
  {
   "cell_type": "code",
   "execution_count": 2,
   "metadata": {
    "collapsed": true
   },
   "outputs": [],
   "source": [
    "import xlsxwriter\n",
    "\n",
    "# Create a workbook and add a worksheet.\n",
    "workbook = xlsxwriter.Workbook('test01.xlsx')\n",
    "worksheet = workbook.add_worksheet()\n",
    "\n",
    "# Some data we want to write to the worksheet.\n",
    "expenses = (\n",
    "    ['Rent', 1000],\n",
    "    ['Gas',   100],\n",
    "    ['Food',  300],\n",
    "    ['Gym',    50],\n",
    ")\n",
    "\n",
    "# Start from the first cell. Rows and columns are zero indexed.\n",
    "row = 0\n",
    "col = 0\n",
    "\n",
    "# Iterate over the data and write it out row by row.\n",
    "for item, cost in (expenses):\n",
    "    worksheet.write(row, col,     item)\n",
    "    worksheet.write(row, col + 1, cost)\n",
    "    row += 1\n",
    "\n",
    "# Write a total using a formula.\n",
    "#worksheet.write(row, 0, 'Total')\n",
    "#worksheet.write(row, 1, '=SUM(B1:B4)')\n",
    "\n",
    "workbook.close()"
   ]
  },
  {
   "cell_type": "code",
   "execution_count": null,
   "metadata": {
    "collapsed": true
   },
   "outputs": [],
   "source": []
  },
  {
   "cell_type": "code",
   "execution_count": null,
   "metadata": {
    "collapsed": true
   },
   "outputs": [],
   "source": []
  }
 ],
 "metadata": {
  "kernelspec": {
   "display_name": "Python 2",
   "language": "python",
   "name": "python2"
  },
  "language_info": {
   "codemirror_mode": {
    "name": "ipython",
    "version": 2
   },
   "file_extension": ".py",
   "mimetype": "text/x-python",
   "name": "python",
   "nbconvert_exporter": "python",
   "pygments_lexer": "ipython2",
   "version": "2.7.12"
  }
 },
 "nbformat": 4,
 "nbformat_minor": 0
}
